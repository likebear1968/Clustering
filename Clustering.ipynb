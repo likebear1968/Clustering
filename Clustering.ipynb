{
 "cells": [
  {
   "cell_type": "code",
   "execution_count": null,
   "metadata": {},
   "outputs": [],
   "source": [
    "import numpy as np\n",
    "import matplotlib.pyplot as plt\n",
    "from sklearn.datasets import make_blobs\n",
    "%matplotlib inline"
   ]
  },
  {
   "cell_type": "code",
   "execution_count": null,
   "metadata": {},
   "outputs": [],
   "source": [
    "K = 5\n",
    "x, _ = make_blobs(n_samples=K*5, n_features=2, centers=K, cluster_std=2, center_box=(-50, 30))\n",
    "plt.scatter(x[:, 0], x[:, 1], s=50, alpha=0.5)"
   ]
  },
  {
   "cell_type": "code",
   "execution_count": null,
   "metadata": {},
   "outputs": [],
   "source": [
    "distance = lambda x, y: np.sqrt((x[0] - y[0]) ** 2 + (x[1] - y[1]) ** 2)"
   ]
  },
  {
   "cell_type": "code",
   "execution_count": null,
   "metadata": {},
   "outputs": [],
   "source": [
    "for i, p in enumerate(x):\n",
    "    dist = np.array([distance(p, q) for q in x if not np.all(p == q)])\n",
    "    print('%3d：min=%.5f：max=%.5f：mean=%.5f' %(i, dist.min(), dist.max(), dist.mean()))"
   ]
  },
  {
   "cell_type": "markdown",
   "metadata": {},
   "source": [
    "### k-means"
   ]
  },
  {
   "cell_type": "code",
   "execution_count": null,
   "metadata": {},
   "outputs": [],
   "source": [
    "def k_means(x, K, centroids=None, epochs=10):\n",
    "    N = x.shape[0]\n",
    "    if centroids is None:\n",
    "        centroids = x[np.random.choice(N, K, replace=False)]\n",
    "    clusters = np.zeros(N)\n",
    "    for _ in range(epochs):\n",
    "        ex = np.array(centroids.copy())\n",
    "        # 距離が一番近い中心点を取得\n",
    "        clusters = np.array([np.argmin(np.sum((centroids - x[n]) ** 2, axis=1)) for n in range(N)])\n",
    "        # 中心の移動\n",
    "        centroids = np.array([x[clusters == k].mean(axis=0) for k in range(K)])\n",
    "        #[np.sum((centroids[k] - x[clusters == k]) ** 2).mean() for k in range(K)]\n",
    "        if np.all(ex == centroids): break\n",
    "    return clusters, centroids"
   ]
  },
  {
   "cell_type": "code",
   "execution_count": null,
   "metadata": {},
   "outputs": [],
   "source": [
    "clusters, centroids = k_means(x, K, None, 100)\n",
    "plt.scatter(x[:, 0], x[:, 1], c=clusters, s=50, alpha=0.5)\n",
    "plt.scatter(centroids[:, 0], centroids[:, 1], c='r', s=10)"
   ]
  },
  {
   "cell_type": "markdown",
   "metadata": {},
   "source": [
    "### sklearn版k-means"
   ]
  },
  {
   "cell_type": "code",
   "execution_count": null,
   "metadata": {},
   "outputs": [],
   "source": [
    "from sklearn.cluster import KMeans\n",
    "km = KMeans(n_clusters=K, init='random', n_init=10, max_iter=x.size, tol=1e-4, random_state=0)\n",
    "centroids = km.fit_predict(x)\n",
    "plt.scatter(x[:, 0], x[:, 1], c=clusters, s=50, alpha=0.5)"
   ]
  },
  {
   "cell_type": "markdown",
   "metadata": {},
   "source": [
    "### k-means++"
   ]
  },
  {
   "cell_type": "code",
   "execution_count": null,
   "metadata": {},
   "outputs": [],
   "source": [
    "def k_means_pp(x, K, epochs=10):\n",
    "    N, D = x.shape\n",
    "    distance = np.zeros(N)\n",
    "    centroids = np.zeros((K, D))\n",
    "    # 1つ目の中心点はランダム\n",
    "    r = np.repeat(1 / N, N)\n",
    "    for k in np.arange(K):\n",
    "        centroids[k] = x[np.random.choice(np.arange(N), 1, p=r)]\n",
    "        distance = np.sum((x - centroids[k]) ** 2, axis=1)\n",
    "        r = distance / np.sum(distance)\n",
    "    return k_means(x, K, centroids, epochs)"
   ]
  },
  {
   "cell_type": "code",
   "execution_count": null,
   "metadata": {},
   "outputs": [],
   "source": [
    "clusters, centroids = k_means_pp(x, K, x.size)\n",
    "plt.scatter(x[:, 0], x[:, 1], c=clusters, s=50, alpha=0.5)\n",
    "plt.scatter(centroids[:, 0], centroids[:, 1], c='r', s=10)"
   ]
  },
  {
   "cell_type": "markdown",
   "metadata": {},
   "source": [
    "### sklearn版k-means++"
   ]
  },
  {
   "cell_type": "code",
   "execution_count": null,
   "metadata": {},
   "outputs": [],
   "source": [
    "from sklearn.cluster import KMeans\n",
    "km = KMeans(n_clusters=K, init='k-means++', n_init=10, max_iter=x.size, tol=1e-4, random_state=0)\n",
    "centroids = km.fit_predict(x)\n",
    "plt.scatter(x[:, 0], x[:, 1], c=clusters, s=50, alpha=0.5)"
   ]
  },
  {
   "cell_type": "markdown",
   "metadata": {},
   "source": [
    "### DBSCAN"
   ]
  },
  {
   "cell_type": "code",
   "execution_count": null,
   "metadata": {},
   "outputs": [],
   "source": [
    "def dbscan(pts, f, eps=10.0, min_pts=3):\n",
    "    visited = set()\n",
    "    noise = set()\n",
    "    clusters = np.zeros(pts.shape[0])\n",
    "    cid = 0\n",
    "    for pid, P in enumerate(pts):\n",
    "        if pid in visited: continue\n",
    "        visited.add(pid)\n",
    "        seeds = [i for i, q in enumerate(pts) if 0 < f(P, q) < eps]\n",
    "        if len(seeds) < min_pts:\n",
    "            noise.add(pid)\n",
    "        else:\n",
    "            cluster = [pid]\n",
    "            while len(seeds) > 0:\n",
    "                qid = seeds.pop()\n",
    "                Q = x[qid]\n",
    "                if not qid in visited:\n",
    "                    n = [i for i, q in enumerate(pts) if 0 < f(Q, q) < eps]\n",
    "                    if len(n) >= min_pts: seeds += n\n",
    "                if not (qid in visited) or (qid in noise):\n",
    "                    cluster.append(qid)\n",
    "                    visited.add(qid)\n",
    "                    if qid in noise: noise.remove(qid)\n",
    "            clusters[cluster] = cid\n",
    "            cid += 1\n",
    "    return clusters"
   ]
  },
  {
   "cell_type": "code",
   "execution_count": null,
   "metadata": {},
   "outputs": [],
   "source": [
    "clusters = dbscan(x, distance, 6.0, 3)\n",
    "plt.scatter(x[:, 0], x[:, 1], c=clusters, s=50, alpha=0.5)"
   ]
  }
 ],
 "metadata": {
  "kernelspec": {
   "display_name": "Python 3",
   "language": "python",
   "name": "python3"
  },
  "language_info": {
   "codemirror_mode": {
    "name": "ipython",
    "version": 3
   },
   "file_extension": ".py",
   "mimetype": "text/x-python",
   "name": "python",
   "nbconvert_exporter": "python",
   "pygments_lexer": "ipython3",
   "version": "3.7.3"
  }
 },
 "nbformat": 4,
 "nbformat_minor": 2
}
